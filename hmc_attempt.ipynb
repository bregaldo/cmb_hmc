{
 "cells": [
  {
   "cell_type": "code",
   "execution_count": 1,
   "metadata": {},
   "outputs": [],
   "source": [
    "import torch\n",
    "import numpy as np\n",
    "from cmb_ps import CMBPS, unnormalize_phi, normalize_phi\n",
    "from hmc import HMC\n",
    "import matplotlib.pyplot as plt"
   ]
  },
  {
   "cell_type": "code",
   "execution_count": 2,
   "metadata": {},
   "outputs": [],
   "source": [
    "device = 0"
   ]
  },
  {
   "cell_type": "code",
   "execution_count": 3,
   "metadata": {},
   "outputs": [],
   "source": [
    "def sample_prior(n):\n",
    "    \"\"\"\n",
    "    Sample from the (normalized) prior distribution.\n",
    "    phi = (H0, Obh2) with H0 ~ U(0, 1), Obh2 ~ U(0, 1)\n",
    "    (unnormalized prior is H0 ~ U(50, 90), Obh2 ~ U(0.0075, 0.0567))\n",
    "    \"\"\"\n",
    "    phi = torch.rand(n, 2).to(device)\n",
    "    return phi\n",
    "\n",
    "ps_model = CMBPS(norm_phi=True).to(device)"
   ]
  },
  {
   "cell_type": "code",
   "execution_count": 4,
   "metadata": {},
   "outputs": [
    {
     "name": "stdout",
     "output_type": "stream",
     "text": [
      "Input shape: torch.Size([10, 2])\n",
      "Output shape: torch.Size([10, 256, 256])\n"
     ]
    }
   ],
   "source": [
    "phi = sample_prior(10)\n",
    "ps = ps_model(phi)\n",
    "print(\"Input shape:\", phi.shape)\n",
    "print(\"Output shape:\", ps.shape)"
   ]
  },
  {
   "cell_type": "code",
   "execution_count": 5,
   "metadata": {},
   "outputs": [
    {
     "name": "stdout",
     "output_type": "stream",
     "text": [
      "Normalized test phi: tensor([0.5000, 0.5000], device='cuda:0')\n"
     ]
    }
   ],
   "source": [
    "phi_test = normalize_phi(torch.tensor([70, 32.1e-3]).to(device))\n",
    "print(\"Normalized test phi:\", phi_test)\n",
    "ps_test = ps_model(phi_test)\n",
    "x_test = torch.fft.ifft2(torch.fft.fft2(torch.randn((256, 256), device=device))*torch.sqrt(ps_test)).real"
   ]
  },
  {
   "cell_type": "code",
   "execution_count": 6,
   "metadata": {},
   "outputs": [],
   "source": [
    "def log_likelihood(phi, x):\n",
    "    \"\"\"\n",
    "    Compute the log likelihood of the Gaussian model.\n",
    "    \"\"\"\n",
    "    x_dim = x.shape[-1]*x.shape[-2]\n",
    "\n",
    "    ps = ps_model(phi)\n",
    "    xf = torch.fft.fft2(x)\n",
    "\n",
    "    term_pi = -(x_dim/2) * np.log(2*np.pi)\n",
    "    term_logdet = -1/2*torch.sum(torch.log(ps), dim=(-1, -2)) # The determinant is the product of the diagonal elements of the PS\n",
    "    term_x = -1/2*torch.sum(1/ps*torch.abs(xf)**2, dim=(-1, -2))/x_dim # We divide by x_dim because of the normalization of the FFT\n",
    "\n",
    "    return term_pi + term_logdet + term_x\n",
    "\n",
    "def log_prior(phi):\n",
    "    \"\"\"\n",
    "    Compute the log (normalized) prior of the parameters.\n",
    "    \"\"\"\n",
    "    H0, Obh2 = phi[..., 0], phi[..., 1]\n",
    "    term_H0 = torch.log(torch.logical_and(H0 >= 0.0, H0 <= 1.0).float())\n",
    "    term_Obh2 = torch.log(torch.logical_and(Obh2 >= 0.0, Obh2 <= 1.0).float())\n",
    "    return term_H0 + term_Obh2\n",
    "\n",
    "def log_posterior(phi, x):\n",
    "    \"\"\"\n",
    "    Compute the log posterior of the parameters (not normalized by the evidence).\n",
    "    \"\"\"\n",
    "    return log_likelihood(phi, x) + log_prior(phi)"
   ]
  },
  {
   "cell_type": "code",
   "execution_count": 7,
   "metadata": {},
   "outputs": [],
   "source": [
    "log_prob = lambda phi: log_posterior(torch.tensor(phi).float().to(device), x_test).cpu().numpy()\n",
    "def log_prob_grad(phi):\n",
    "    \"\"\"\n",
    "    Compute the log posterior and its gradient.\n",
    "    \"\"\"\n",
    "    phi = torch.tensor(phi).float().to(device).detach().requires_grad_()\n",
    "    log_prob = log_posterior(phi, x_test)\n",
    "    grad_log_prob = torch.autograd.grad(log_prob, phi, grad_outputs=torch.ones_like(log_prob))[0]\n",
    "    return log_prob.detach().cpu().numpy(), grad_log_prob.cpu().numpy()"
   ]
  },
  {
   "cell_type": "code",
   "execution_count": 8,
   "metadata": {},
   "outputs": [
    {
     "name": "stdout",
     "output_type": "stream",
     "text": [
      "Chain 0\n",
      "Chain 1\n",
      "Chain 2\n",
      "Chain 3\n",
      "Chain 4\n",
      "Chain 5\n",
      "Chain 6\n"
     ]
    },
    {
     "name": "stderr",
     "output_type": "stream",
     "text": [
      "/mnt/home/bregaldosaintblancard/Projects/Diffusion4Dust/cmb_hmc/hmc.py:182: RuntimeWarning: overflow encountered in exp\n",
      "  prob = np.exp(H0 - H1)\n"
     ]
    },
    {
     "name": "stdout",
     "output_type": "stream",
     "text": [
      "Chain 7\n",
      "Chain 8\n",
      "Chain 9\n"
     ]
    }
   ],
   "source": [
    "hmc = HMC(log_prob, log_prob_and_grad=log_prob_grad)\n",
    "\n",
    "kwargs = {'nsamples': 10,\n",
    "          'burnin': 10,\n",
    "          'step_size': 0.01,\n",
    "          'nleap': 10}\n",
    "\n",
    "nchains = 10\n",
    "samples_list = []\n",
    "for i in range(nchains):\n",
    "    print(\"Chain\", i)\n",
    "    phi_0 = sample_prior(1)[0].cpu().numpy()\n",
    "    sampler = hmc.sample(phi_0, **kwargs)\n",
    "    samples_list.append(sampler.samples)"
   ]
  },
  {
   "cell_type": "code",
   "execution_count": 13,
   "metadata": {},
   "outputs": [
    {
     "data": {
      "text/plain": [
       "array([0.51342654, 0.49228126, 0.52852649, 0.47917312, 0.50392078,\n",
       "       0.47247768, 0.49663642, 0.51257017, 0.49148765])"
      ]
     },
     "execution_count": 13,
     "metadata": {},
     "output_type": "execute_result"
    }
   ],
   "source": [
    "samples_list[i][:, 1]"
   ]
  },
  {
   "cell_type": "code",
   "execution_count": 21,
   "metadata": {},
   "outputs": [
    {
     "data": {
      "image/png": "[encoded data removed]",
      "text/plain": [
       "<Figure size 640x480 with 1 Axes>"
      ]
     },
     "metadata": {},
     "output_type": "display_data"
    }
   ],
   "source": [
    "plt.figure()\n",
    "for i in range(nchains):\n",
    "    plt.scatter(samples_list[i][:, 0], samples_list[i][:, 1], s=2, alpha=0.5)\n",
    "plt.axvline(phi_test[0].cpu().numpy(), color='red', linestyle='--')\n",
    "plt.axhline(phi_test[1].cpu().numpy(), color='red', linestyle='--')\n",
    "plt.xlabel(r\"$H_0$\")\n",
    "plt.ylabel(r\"$\\Omega_b h^2$\")\n",
    "plt.xlim(0, 1)\n",
    "plt.ylim(0, 1)\n",
    "plt.show()"
   ]
  }
 ],
 "metadata": {
  "kernelspec": {
   "display_name": "diffusion",
   "language": "python",
   "name": "python3"
  },
  "language_info": {
   "codemirror_mode": {
    "name": "ipython",
    "version": 3
   },
   "file_extension": ".py",
   "mimetype": "text/x-python",
   "name": "python",
   "nbconvert_exporter": "python",
   "pygments_lexer": "ipython3",
   "version": "3.10.10"
  },
  "orig_nbformat": 4
 },
 "nbformat": 4,
 "nbformat_minor": 2
}
