{
 "cells": [
  {
   "cell_type": "code",
   "execution_count": 10,
   "metadata": {},
   "outputs": [],
   "source": [
    "import torch\n",
    "from cmb_cov import CMBCov"
   ]
  },
  {
   "cell_type": "code",
   "execution_count": 11,
   "metadata": {},
   "outputs": [],
   "source": [
    "device = 0"
   ]
  },
  {
   "cell_type": "code",
   "execution_count": 12,
   "metadata": {},
   "outputs": [],
   "source": [
    "def sample_prior(n):\n",
    "    \"\"\"\n",
    "    Sample from the prior distribution.\n",
    "    phi = (H0, Obh2) with H0 ~ U(50, 90), Omh2 ~ U(0.0075, 0.0567)\n",
    "    \"\"\"\n",
    "    return (torch.tensor([40, 49.2e-3])*torch.rand(n, 2) + torch.tensor([50, 7.5e-3])).to(device)\n",
    "\n",
    "cov_model = CMBCov().to(device)"
   ]
  },
  {
   "cell_type": "code",
   "execution_count": 13,
   "metadata": {},
   "outputs": [
    {
     "name": "stdout",
     "output_type": "stream",
     "text": [
      "Input shape: torch.Size([10, 2])\n",
      "Output shape: torch.Size([10, 256, 256])\n"
     ]
    }
   ],
   "source": [
    "phi = sample_prior(10)\n",
    "cov = cov_model(phi)\n",
    "print(\"Input shape:\", phi.shape)\n",
    "print(\"Output shape:\", cov.shape)"
   ]
  },
  {
   "cell_type": "code",
   "execution_count": null,
   "metadata": {},
   "outputs": [],
   "source": []
  }
 ],
 "metadata": {
  "kernelspec": {
   "display_name": "diffusion",
   "language": "python",
   "name": "python3"
  },
  "language_info": {
   "codemirror_mode": {
    "name": "ipython",
    "version": 3
   },
   "file_extension": ".py",
   "mimetype": "text/x-python",
   "name": "python",
   "nbconvert_exporter": "python",
   "pygments_lexer": "ipython3",
   "version": "3.10.10"
  },
  "orig_nbformat": 4
 },
 "nbformat": 4,
 "nbformat_minor": 2
}
